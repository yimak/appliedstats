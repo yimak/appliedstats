{
 "cells": [
  {
   "cell_type": "markdown",
   "metadata": {},
   "source": [
    "# Project:\n",
    "\n",
    "> Complete the project in a single notebook called project.ipynb in your repository. The same style should be used as detailed above: explanations in MarkDown and code comments, clean code, and regular commits. Use plots as appropriate.\n",
    "\n",
    "> In this project, you will analyze the PlantGrowth R dataset. You will find a short description of it on Vicent Arel-Bundock's Rdatasets page. The dataset contains two main variables, a treatment group and the weight of plants within those groups.\n",
    "\n",
    "> Your task is to perform t-tests and ANOVA on this dataset while describing the dataset and explaining your work. In doing this you should:\n",
    "\n",
    ">> Download and save the dataset to your repository.\n",
    "\n",
    ">> Describe the data set in your notebook.\n",
    "\n",
    ">> Describe what a t-test is, how it works, and what the assumptions are.\n",
    "\n",
    ">> Perform a t-test to determine whether there is a significant difference between the two treatment groups trt1 and trt2.\n",
    "\n",
    ">> Perform ANOVA to determine whether there is a significant difference between the three treatment groups ctrl, trt1, and trt2.\n",
    "\n",
    ">> Explain why it is more appropriate to apply ANOVA rather than several t-tests when analyzing more than two groups."
   ]
  },
  {
   "cell_type": "markdown",
   "metadata": {},
   "source": [
    "## Introduction:\n",
    "\n",
    ">The **Plangrowth Dataset** is an experiment that contains the weight of $30$ plants sepparated in three groups of $10$ samples each:     \n",
    "- The **control group (ctrl)** represents plants grown without any additional treatment.\n",
    "- The **experimental groups (trt1 and trt2)** receive different treatments, and their plant weights are compared against the control group to assess the impact of the treatments.\n",
    "\n",
    ">Download the **Plant Growth dataset** and save as csv file:   \n",
    ">Link: https://github.com/vincentarelbundock/Rdatasets/blob/master/csv/datasets/PlantGrowth.csv"
   ]
  },
  {
   "cell_type": "markdown",
   "metadata": {},
   "source": [
    "## Analysis:"
   ]
  },
  {
   "cell_type": "code",
   "execution_count": 4,
   "metadata": {},
   "outputs": [],
   "source": [
    "# Import Pandas \n",
    "import pandas as pd\n",
    "\n",
    "# Import numpy\n",
    "import numpy as np\n",
    "\n",
    "# Import Matplotlib\n",
    "import matplotlib.pyplot as plt\n",
    "\n",
    "# Import Seaborn for plotting and data visualization\n",
    "import seaborn as sns\n",
    "\n",
    "# Statistical fucntions\n",
    "import scipy.stats as stats\n",
    "\n",
    "# Mathematical functions\n",
    "import math\n",
    "\n",
    "# To perform one-way ANOVA test\n",
    "from scipy.stats import f_oneway\n",
    "\n"
   ]
  },
  {
   "cell_type": "code",
   "execution_count": 5,
   "metadata": {},
   "outputs": [],
   "source": [
    "# Extract the data from the column \"Wheight\" and create three columns based on the group types\n",
    "# Link: https://stackoverflow.com/questions/16503560/read-specific-columns-from-a-csv-file-with-csv-module \n",
    "\n",
    "# No header\n",
    "# Link: https://stackoverflow.com/questions/29287224/pandas-read-in-table-without-headers\n",
    "data = pd.read_csv('PlantGrowth.csv', header=None)\n",
    "\n",
    "# Separate table in three groups ctrl, trt1, trt2\n",
    "# Link: https://pandas.pydata.org/docs/getting_started/intro_tutorials/03_subset_data.html\n",
    "ctrl = data.iloc[1:11, 1:2] \n",
    "trt1 = data.iloc[11:21, 1:2]\n",
    "trt2 = data.iloc[21:31, 1:2]"
   ]
  },
  {
   "cell_type": "code",
   "execution_count": 6,
   "metadata": {},
   "outputs": [
    {
     "data": {
      "text/plain": [
       "<AxesSubplot:>"
      ]
     },
     "execution_count": 6,
     "metadata": {},
     "output_type": "execute_result"
    },
    {
     "data": {
      "image/png": "[encoded data removed]",
      "text/plain": [
       "<Figure size 640x480 with 1 Axes>"
      ]
     },
     "metadata": {},
     "output_type": "display_data"
    }
   ],
   "source": [
    "# Create a strip plot using seaborn for a better data representation: \n",
    "# Link: https://seaborn.pydata.org/generated/seaborn.color_palette.html  \n",
    "#       https://seaborn.pydata.org/generated/seaborn.stripplot.html \n",
    "\n",
    "sns.stripplot(data = [ctrl,trt1,trt2], palette =('Set2'))\n",
    "\n"
   ]
  },
  {
   "cell_type": "markdown",
   "metadata": {},
   "source": [
    "> In the corresponding plot, we observe the following trends:\n",
    "\n",
    ">> $Ctrl:$ The plant weights range between $4.2$ and $6.2$.  \n",
    ">> $Trt1:$ This group shows some lower weights ranging from $3.5$ to $6$, with a noticeable gap in values between $5$ and $6$.  \n",
    ">> $Trt2:$ The weights in this group are higher, ranging between $5$ and $6.3$.  \n"
   ]
  },
  {
   "cell_type": "code",
   "execution_count": 7,
   "metadata": {},
   "outputs": [
    {
     "data": {
      "text/plain": [
       "<AxesSubplot:>"
      ]
     },
     "execution_count": 7,
     "metadata": {},
     "output_type": "execute_result"
    },
    {
     "data": {
      "image/png": "[encoded data removed]",
      "text/plain": [
       "<Figure size 640x480 with 1 Axes>"
      ]
     },
     "metadata": {},
     "output_type": "display_data"
    }
   ],
   "source": [
    "# create a boxplot to represent the data\n",
    "# Link : https://seaborn.pydata.org/generated/seaborn.boxplot.html\n",
    "\n",
    "sns.boxplot(data = [ctrl,trt1,trt2], palette=('Set2'))"
   ]
  },
  {
   "cell_type": "markdown",
   "metadata": {},
   "source": [
    "> In this analysis of the boxlot, we observe distinctive patterns across the groups:\n",
    "\n",
    ">> For the $Ctrl$ group, the median bisects the interquartile to two ranges, representing the middle $50%$ of the dataset into two quartiles. The upper quartile spans from $5.1$ to $5.3$, while the lower quartile extends from $5.1$ to $4.6$. The distribution suggests a median data tendency around $5.2$.\n",
    "\n",
    ">> In the case of the $Trt1$ group, the median is closely aligned with the center of the box, indicating a balanced distribution within the IQR, with a median value approximately at $4.5$. This visualization shows that there are only two measures extending beyond $4.9$, reaching up to $5.8$ and $6.0$, respectively. Moreover, $Ctrl1$ records the minimum value observed in the dataset.\n",
    "\n",
    ">> For the $Trt2$ group, the median is slightly lower within the box, signifiying that a majority of the data within the IQR is concentrated towards the lower end or $Q1$, primarly between $5.3$ and $5.4$.   \n",
    "Outside the IQR, there are data points extending up to $6.2$, marking the maximum value recorded in the dataset for the PlantGrowth dataset.  \n",
    "\n",
    "Link: https://www.atlassian.com/data/charts/box-plot-complete-guide\n"
   ]
  },
  {
   "cell_type": "markdown",
   "metadata": {},
   "source": [
    "## Performing the t-test\n",
    "\n",
    "> The **independent t-test**, also called the **two sample t-test**, independent-samples t-test or student's t-test, is an inferential statistical test that determines whether there is a statistically significant difference between the means in two unrelated groups.  \n",
    "> The **dependent t-test** (also called the **paired t-test** or **paired-samples t-test**) compares the means of two related groups to determine whether there is a statistically significant difference between these means. Since our meassures compare the means of groups that are independent from one another, we will be using the two sample t-test.\n",
    "\n",
    "> The null hypothesis for the independent t-test is that the plant weight means from the two unrelated groups are equal: $$H0: u1 = u2$$\n",
    "> Most often, our objective is to demonstrate that the groups are different, that is, rejecting the $H0$ hypothesis: $$HA: u1 ≠ u2$$  \n",
    "> To do this, we need to set a significance level (also called alpha) that allows us to either reject or accept the alternative hypothesis. Most commonly, this value is set at $0.05$.  $$alpha=0.05$$\n",
    ">  **Alpha** represents the probability of obtaining your results due to chance. The smaller this value is, the more “unusual” the results. Commonly, this value is set to 0.05 (or 5%), but can take on any value chosen by the research not exceeding $0.05$.\n",
    "> This test for homogeneity of variance provides an **F-statistic** and a significance value **p-value**. If the pvalue is greater than $0.05$ (i.e., $p > .05$), our group variances can be treated as equal and we can accept the $H0$ hypothesis. However, if $p < 0.05$, we have unequal variances and we have violated the assumption of homogeneity of variances.\n",
    "\n",
    "\n",
    "Link:  \n",
    "https://resources.nu.edu/statsresources/alphabeta#:~:text=Alpha%20is%20also%20known%20as,being%20compared%20to%2C%20for%20example.  \n",
    "https://statistics.laerd.com/statistical-guides/independent-t-test-statistical-guide.php  \n",
    "https://statistics.laerd.com/statistical-guides/dependent-t-test-statistical-guide.php "
   ]
  },
  {
   "cell_type": "markdown",
   "metadata": {},
   "source": [
    "> When attempting to perform the t-test, I realized that the DataFrames I had created were not in the correct format for the statistical function. To identify the type of data I was working with, I used $print(type(trt1))$ and realized it was a $str$. After confirming the issue, I converted the DataFrames into arrays using NumPy to ensure compatibility with the t-test function.\n"
   ]
  },
  {
   "cell_type": "code",
   "execution_count": 8,
   "metadata": {},
   "outputs": [
    {
     "name": "stdout",
     "output_type": "stream",
     "text": [
      "<class 'pandas.core.frame.DataFrame'>\n"
     ]
    }
   ],
   "source": [
    "print(type(trt1))\n",
    "\n",
    "ctrl = np.fromstring('4.17, 5.58, 5.18, 6.11, 4.5, 4.61, 5.17, 4.53, 5.33, 5.14', sep =',' )\n",
    "trt1 = np.fromstring('4.81, 4.17, 4.41, 3.59, 5.87, 3.83, 6.03, 4.89, 4.32, 4.69', sep =',' )\n",
    "trt2 = np.fromstring('6.31, 5.12, 5.54, 5.5, 5.37, 5.29, 4.92, 6.15, 5.8, 5.26', sep =',' )\n",
    "\n",
    "# Link: https://numpy.org/doc/2.1/reference/generated/numpy.fromstring.html#numpy-fromstring "
   ]
  },
  {
   "cell_type": "markdown",
   "metadata": {},
   "source": [
    "### $n$ samples"
   ]
  },
  {
   "cell_type": "code",
   "execution_count": 9,
   "metadata": {},
   "outputs": [
    {
     "name": "stdout",
     "output_type": "stream",
     "text": [
      "[0, 1, 2]\n"
     ]
    },
    {
     "data": {
      "text/plain": [
       "3"
      ]
     },
     "execution_count": 9,
     "metadata": {},
     "output_type": "execute_result"
    }
   ],
   "source": [
    "# Considering we have three samples:\n",
    "n = 3\n",
    "\n",
    "# Show the sample labels \n",
    "print(list(range(3)))\n",
    "\n",
    "# Number of ways of selecting two samples from n\n",
    "math.comb(n, 2)"
   ]
  },
  {
   "cell_type": "markdown",
   "metadata": {},
   "source": [
    "For $3$ samples, we can perform $3$ t-tests:\n",
    " \n",
    "[ctrl, trt1]  \n",
    "[ctrl, trt2]  \n",
    "[trt1, trt2] "
   ]
  },
  {
   "cell_type": "code",
   "execution_count": 10,
   "metadata": {},
   "outputs": [
    {
     "name": "stdout",
     "output_type": "stream",
     "text": [
      "The pvalue equals 0.2490231659730067. We fail to reject the null hypothesis as there is no significant difference between the Ctrl and Trt1 sample.\n"
     ]
    }
   ],
   "source": [
    "# Independent samples t-test on sample_a and sample_b\n",
    "# Link: https://www.geeksforgeeks.org/how-to-conduct-a-two-sample-t-test-in-python/#:~:text=than%204%3A1.-,Performing%20Two%2DSample%20T%2DTest,Python3,-%23%20Python%20program%20to \n",
    "t_statistic, pvalue = stats.ttest_ind(ctrl,trt1)\n",
    "\n",
    "alpha = 0.05\n",
    "if pvalue < alpha:\n",
    "    print(f\"The pvalue equals {pvalue}. We reject the null hypothesis as there is a significant difference between the Ctrl and Trt1 sample.\")\n",
    "else:\n",
    "    print(f\"The pvalue equals {pvalue}. We fail to reject the null hypothesis as there is no significant difference between the Ctrl and Trt1 sample.\")\n",
    "\n",
    "# Link: https://builtin.com/data-science/t-test-python "
   ]
  },
  {
   "cell_type": "markdown",
   "metadata": {},
   "source": [
    "> When comparing the $Ctrl$ sample with the $Trt1$, there is insufficient evidence to reject $H0$. If they would turn out to be different, it would be likely due to random chance. In the context of a t-test, it means the two groups being compared are not significantly different."
   ]
  },
  {
   "cell_type": "code",
   "execution_count": 11,
   "metadata": {},
   "outputs": [
    {
     "name": "stdout",
     "output_type": "stream",
     "text": [
      "The pvalue equals 0.04685138491157358. We reject the null hypothesis as there is a significant difference between the Ctrl and Trt2 sample.\n"
     ]
    }
   ],
   "source": [
    "# Independent samples t-test on sample_a and sample_b\n",
    "t_statistic, pvalue = stats.ttest_ind(ctrl,trt2)\n",
    "\n",
    "# Show\n",
    "t_statistic, pvalue\n",
    "\n",
    "alpha = 0.05\n",
    "if pvalue < alpha:\n",
    "    print(f\"The pvalue equals {pvalue}. We reject the null hypothesis as there is a significant difference between the Ctrl and Trt2 sample.\")\n",
    "else:\n",
    "    print(f\"The pvalue equals {pvalue}. We fail to reject the null hypothesis as there is no significant difference between the Ctrl and Trt2 sample.\")\n",
    "\n",
    "# Link: https://builtin.com/data-science/t-test-python "
   ]
  },
  {
   "cell_type": "markdown",
   "metadata": {},
   "source": [
    "> When comparing the $Ctrl$ sample with the $Trt2$, there is enough evidence to reject $H0$, at the 5% significance level. The difference between the two groups is statistically significant, meaning it is unlikely to be due to random chance."
   ]
  },
  {
   "cell_type": "code",
   "execution_count": 12,
   "metadata": {},
   "outputs": [
    {
     "name": "stdout",
     "output_type": "stream",
     "text": [
      "The pvalue equals 0.0075184261182198574. We reject the null hypothesis as there is a significant difference between the Trt1 and Trt2 sample.\n"
     ]
    }
   ],
   "source": [
    "# Independent samples t-test on sample_a and sample_b\n",
    "t_statistic, pvalue = stats.ttest_ind(trt1,trt2)\n",
    "\n",
    "# Show\n",
    "t_statistic, pvalue\n",
    "\n",
    "alpha = 0.05\n",
    "if pvalue < alpha:\n",
    "    print(f\"The pvalue equals {pvalue}. We reject the null hypothesis as there is a significant difference between the Trt1 and Trt2 sample.\")\n",
    "else:\n",
    "    print(f\"The pvalue equals {pvalue}. We fail to reject the null hypothesis as there is no significant difference between the Trt1 and Trt2 sample.\")\n",
    "\n",
    "# Link: https://builtin.com/data-science/t-test-python "
   ]
  },
  {
   "cell_type": "markdown",
   "metadata": {},
   "source": [
    "> There is strong evidence against the null hypothesis $H0$ when comparing the samples $Trt1$ and $Trt2$. The observed difference is highly unlikely to be due to random chance, which suggests a significant difference.\n",
    "\n",
    "> **T-tests** are primarily designed to compare the means of **two groups**. For datasets with multiple groups, other statistical methods are more appropriate, such as analysis of variance (ANOVA), Tukey-Kramer pairwise comparisons, Dunnett's test (for comparing groups against a control), or analysis of means (ANOM). \n",
    "\n",
    "> Based on the assignment guidelines, we will proceed with the **ANOVA** method for this analysis.\n",
    "\n",
    "Link: \n",
    "https://pmc.ncbi.nlm.nih.gov/articles/PMC6813708/ "
   ]
  },
  {
   "cell_type": "markdown",
   "metadata": {},
   "source": [
    "## ANOVA test"
   ]
  },
  {
   "cell_type": "code",
   "execution_count": 13,
   "metadata": {},
   "outputs": [
    {
     "name": "stdout",
     "output_type": "stream",
     "text": [
      "The p-value is 0.0075184261182198574. Therefore, we reject the null hypothesis, indicating a significant difference among the three samples.\n"
     ]
    }
   ],
   "source": [
    "import scipy.stats as stats\n",
    "\n",
    "stats.f_oneway(ctrl,trt1,trt2)\n",
    "\n",
    "alpha = 0.05\n",
    "if pvalue < alpha:\n",
    "    print(f\"The p-value is {pvalue}. Therefore, we reject the null hypothesis, indicating a significant difference among the three samples.\")\n",
    "else:\n",
    "    print(f\"The pvalue equals {pvalue}. Therefore, we fail to reject the null hypothesis as there is no significant difference among the three samples.\")\n",
    "\n",
    "# Link: https://www.statology.org/one-way-anova-python/ "
   ]
  },
  {
   "cell_type": "markdown",
   "metadata": {},
   "source": [
    "> As we can see, the result of the ANOVA test for the three groups yielded a p-value of $0.0075184261182198574$. Since this p-value is less than the significance level ($α$, typically $0.05$), we can confidently reject the null hypothesis $𝐻0$. This indicates that there is a statistically significant difference among the means of the three groups.\n",
    "\n",
    "> Whereas ANOVA (e.g. f_oneway) assesses whether the true means underlying each sample are identical, **Tukey’s HSD** is a post hoc test used to compare the mean of each sample to the mean of each other sample (pairwise comparison).\n",
    "\n",
    "> **Post hoc** analysis is necessary to determine which groups are significantly different from each other after conducting ANOVA tests. In simpler terms, post hoc analysis helps researchers determine which groups are responsible for the significant differences observed in ANOVA tests. This is essential for making informed decisions and drawing accurate conclusions from research data. Post hoc analysis is important for several reasons:\n",
    ">> First, it helps to avoid **Type I errors**, which occur when a researcher rejects the null hypothesis when it is true. It helps to identify which groups are significantly different from each other, reducing the likelihood of falsely rejecting the null hypothesis.  \n",
    ">> Second, post hoc analysis helps to identify which groups are most important in driving the observed differences. This information can be used to develop targeted interventions or treatments for specific groups, based on their unique characteristics.\n",
    "\n",
    "Links:  \n",
    "https://docs.scipy.org/doc/scipy/reference/generated/scipy.stats.tukey_hsd.html#tukey-hsd  \n",
    "https://fastercapital.com/content/Tukey-s-HSD--Post-Hoc-Analysis-after-ANOVA.html#Significance-of-Post-Hoc-Analysis "
   ]
  },
  {
   "cell_type": "code",
   "execution_count": 14,
   "metadata": {},
   "outputs": [
    {
     "name": "stdout",
     "output_type": "stream",
     "text": [
      "Tukey's HSD Pairwise Group Comparisons (95.0% Confidence Interval)\n",
      "Comparison  Statistic  p-value  Lower CI  Upper CI\n",
      " (0 - 1)      0.371     0.391    -0.320     1.062\n",
      " (0 - 2)     -0.494     0.198    -1.185     0.197\n",
      " (1 - 0)     -0.371     0.391    -1.062     0.320\n",
      " (1 - 2)     -0.865     0.012    -1.556    -0.174\n",
      " (2 - 0)      0.494     0.198    -0.197     1.185\n",
      " (2 - 1)      0.865     0.012     0.174     1.556\n",
      "\n"
     ]
    }
   ],
   "source": [
    "# Calculate Tukey HSD using SciPy:\n",
    "\n",
    "results = stats.tukey_hsd(ctrl,trt1,trt2)\n",
    "print(results)\n",
    "\n",
    "# Link: https://www.youtube.com/watch?v=XwgWnKvmRgU"
   ]
  },
  {
   "cell_type": "markdown",
   "metadata": {},
   "source": [
    "## P-value Breakdown:  \n",
    "\n",
    "Comparison $(0 - 1)$: $p=0.391$\n",
    "- The p-value is greater than the common significance level $(α=0.05)$ which indicates here is no significant difference between groups $Ctrl$ and $Trt1$. The observed difference is likely due to random chance.    \n",
    "\n",
    "Comparison $(0 - 2)$:  $p=0.198$    \n",
    "- The p-value is also greater than $0.05$, hence, there is no significant difference between groups $Ctrl$ and $Trt2$. Again, the results suggest no meaningful distinction in means.  \n",
    "\n",
    "Comparison $(1 - 0):$ $p=0.391$  \n",
    "- This is the same as $(0 - 1)$, just reversed. The result is the same: no significant difference between $Trt1$ and $Ctrl$.  \n",
    "\n",
    "Comparison $(1 - 2)$: $p=0.012$  \n",
    "- The p-value is less than $0.05$, indicating a significant difference between $Trt1$ and $Trt2$.  \n",
    "\n",
    "Comparison $(2 - 0)$: $p=0.198$  \n",
    "- Similar to (0 - 2), the p-value is greater than $0.05$, we can confirm the is no significant difference between $Trt2$ and $Ctrl$.  \n",
    "\n",
    "Comparison $(2 - 1)$: $p=0.012$  \n",
    "- This is the reverse of (1 - 2) and confirms the same result. A significant difference exists between $Trt2$ and $Trt1$.  \n",
    "\n",
    "> **Summary:**  \n",
    ">> The only significant difference (at $α=0.05$) is between the treated samples $Trt1$ and $Trt2$ (p=0.012).  \n",
    "There are no significant differences between the $Ctrl$ and either treatment group (1 or 2).  \n",
    "\n",
    ">> These findings suggest that $Trt1$ and $Trt2$ have distinct effects on the plant weights, while the $Ctrl$ does not differ significantly from either treatment.  "
   ]
  }
 ],
 "metadata": {
  "kernelspec": {
   "display_name": "base",
   "language": "python",
   "name": "python3"
  },
  "language_info": {
   "codemirror_mode": {
    "name": "ipython",
    "version": 3
   },
   "file_extension": ".py",
   "mimetype": "text/x-python",
   "name": "python",
   "nbconvert_exporter": "python",
   "pygments_lexer": "ipython3",
   "version": "3.9.13"
  }
 },
 "nbformat": 4,
 "nbformat_minor": 2
}
