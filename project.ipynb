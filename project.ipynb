{
 "cells": [
  {
   "cell_type": "markdown",
   "metadata": {},
   "source": [
    "# Project:\n",
    "\n",
    "Complete the project in a single notebook called project.ipynb in your repository. The same style should be used as detailed above: explanations in MarkDown and code comments, clean code, and regular commits. Use plots as appropriate.\n",
    "\n",
    "In this project, you will analyze the PlantGrowth R dataset. You will find a short description of it on Vicent Arel-Bundock's Rdatasets page. The dataset contains two main variables, a treatment group and the weight of plants within those groups.\n",
    "\n",
    "Your task is to perform t-tests and ANOVA on this dataset while describing the dataset and explaining your work. In doing this you should:\n",
    "\n",
    "Download and save the dataset to your repository.\n",
    "\n",
    "Describe the data set in your notebook.\n",
    "\n",
    "Describe what a t-test is, how it works, and what the assumptions are.\n",
    "\n",
    "Perform a t-test to determine whether there is a significant difference between the two treatment groups trt1 and trt2.\n",
    "\n",
    "Perform ANOVA to determine whether there is a significant difference between the three treatment groups ctrl, trt1, and trt2.\n",
    "\n",
    "Explain why it is more appropriate to apply ANOVA rather than several t-tests when analyzing more than two groups."
   ]
  },
  {
   "cell_type": "markdown",
   "metadata": {},
   "source": [
    "Download the Plant Growth dataset and save as csv file:   \n",
    "Link: https://github.com/vincentarelbundock/Rdatasets/blob/master/csv/datasets/PlantGrowth.csv"
   ]
  },
  {
   "cell_type": "code",
   "execution_count": 38,
   "metadata": {},
   "outputs": [
    {
     "name": "stdout",
     "output_type": "stream",
     "text": [
      "       1\n",
      "1   4.17\n",
      "2   5.58\n",
      "3   5.18\n",
      "4   6.11\n",
      "5    4.5\n",
      "6   4.61\n",
      "7   5.17\n",
      "8   4.53\n",
      "9   5.33\n",
      "10  5.14\n",
      "       1\n",
      "11  4.81\n",
      "12  4.17\n",
      "13  4.41\n",
      "14  3.59\n",
      "15  5.87\n",
      "16  3.83\n",
      "17  6.03\n",
      "18  4.89\n",
      "19  4.32\n",
      "20  4.69\n",
      "       1\n",
      "21  6.31\n",
      "22  5.12\n",
      "23  5.54\n",
      "24   5.5\n",
      "25  5.37\n",
      "26  5.29\n",
      "27  4.92\n",
      "28  6.15\n",
      "29   5.8\n",
      "30  5.26\n"
     ]
    }
   ],
   "source": [
    "# Extract columns\n",
    "# Link: https://stackoverflow.com/questions/16503560/read-specific-columns-from-a-csv-file-with-csv-module \n",
    "\n",
    "# No header\n",
    "# Link: https://stackoverflow.com/questions/29287224/pandas-read-in-table-without-headers\n",
    "import pandas as pd\n",
    "data = pd.read_csv('PlantGrowth.csv', header=None)\n",
    "\n",
    "# Separate table in three groups ctrl, trt1, trt2\n",
    "# Link: https://pandas.pydata.org/docs/getting_started/intro_tutorials/03_subset_data.html\n",
    "ctrl = data.iloc[1:11, 1:2] \n",
    "trt1 = data.iloc[11:21, 1:2] \n",
    "trt2 = data.iloc[21:31, 1:2] \n",
    "\n",
    "\n",
    "print(ctrl)\n",
    "print(trt1)\n",
    "print(trt2)"
   ]
  }
 ],
 "metadata": {
  "kernelspec": {
   "display_name": "base",
   "language": "python",
   "name": "python3"
  },
  "language_info": {
   "codemirror_mode": {
    "name": "ipython",
    "version": 3
   },
   "file_extension": ".py",
   "mimetype": "text/x-python",
   "name": "python",
   "nbconvert_exporter": "python",
   "pygments_lexer": "ipython3",
   "version": "3.9.13"
  }
 },
 "nbformat": 4,
 "nbformat_minor": 2
}
